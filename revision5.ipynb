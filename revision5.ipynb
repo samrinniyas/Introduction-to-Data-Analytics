{
  "nbformat": 4,
  "nbformat_minor": 0,
  "metadata": {
    "colab": {
      "provenance": [],
      "authorship_tag": "ABX9TyMvEIaYXTIK9grVfCFOQeRO",
      "include_colab_link": true
    },
    "kernelspec": {
      "name": "python3",
      "display_name": "Python 3"
    },
    "language_info": {
      "name": "python"
    }
  },
  "cells": [
    {
      "cell_type": "markdown",
      "metadata": {
        "id": "view-in-github",
        "colab_type": "text"
      },
      "source": [
        "<a href=\"https://colab.research.google.com/github/samrinniyas/Introduction-to-Data-Analytics/blob/main/revision5.ipynb\" target=\"_parent\"><img src=\"https://colab.research.google.com/assets/colab-badge.svg\" alt=\"Open In Colab\"/></a>"
      ]
    },
    {
      "cell_type": "code",
      "execution_count": 1,
      "metadata": {
        "id": "qYTl4EyOO3aX"
      },
      "outputs": [],
      "source": [
        "def samrin():\n",
        "  print(\"my name is jensyy\")"
      ]
    },
    {
      "cell_type": "code",
      "source": [
        "samrin()"
      ],
      "metadata": {
        "colab": {
          "base_uri": "https://localhost:8080/"
        },
        "id": "RCnRx16NQORn",
        "outputId": "923b8739-036a-48f3-9a7f-905da689e772"
      },
      "execution_count": 2,
      "outputs": [
        {
          "output_type": "stream",
          "name": "stdout",
          "text": [
            "my name is jensyy\n"
          ]
        }
      ]
    },
    {
      "cell_type": "code",
      "source": [
        "def samrin():\n",
        "  print(\"My roll number is\",23)"
      ],
      "metadata": {
        "id": "38nOPVFAQRVG"
      },
      "execution_count": 6,
      "outputs": []
    },
    {
      "cell_type": "code",
      "source": [
        "samrin()"
      ],
      "metadata": {
        "colab": {
          "base_uri": "https://localhost:8080/"
        },
        "id": "Y0_sropxQ1U-",
        "outputId": "64626878-11d4-4f99-fdbf-d1f69c50d65e"
      },
      "execution_count": 7,
      "outputs": [
        {
          "output_type": "stream",
          "name": "stdout",
          "text": [
            "My roll number is 23\n"
          ]
        }
      ]
    },
    {
      "cell_type": "code",
      "source": [
        "def samrin(x):\n",
        "  print(\"your roll number is\",x)"
      ],
      "metadata": {
        "id": "-kvhB90eQ--_"
      },
      "execution_count": 8,
      "outputs": []
    },
    {
      "cell_type": "code",
      "source": [
        "x=int(input(\"enter your roll number\"))\n",
        "samrin(x)"
      ],
      "metadata": {
        "colab": {
          "base_uri": "https://localhost:8080/"
        },
        "id": "vbsCnbeFR4WY",
        "outputId": "92a26d6f-191c-4651-9fde-a28626141383"
      },
      "execution_count": 9,
      "outputs": [
        {
          "output_type": "stream",
          "name": "stdout",
          "text": [
            "enter your roll number12\n",
            "your roll number is 12\n"
          ]
        }
      ]
    },
    {
      "cell_type": "code",
      "source": [
        "def jensy(a,b,c,d):\n",
        "  print(\"your name is\",a)\n",
        "  print(\"your roll number is\",b)\n",
        "  print(\"your email is\",c)\n",
        "  print(\"you are from\",d)"
      ],
      "metadata": {
        "id": "CmNQ0vO0SE04"
      },
      "execution_count": 12,
      "outputs": []
    },
    {
      "cell_type": "code",
      "source": [
        "a=input(\"enter your name\")\n",
        "b=int(input(\"enter your roll number\"))\n",
        "c=input(\"Enter your email\")\n",
        "d=input(\"enter your place\")\n",
        "jensy(a,b,c,d)"
      ],
      "metadata": {
        "colab": {
          "base_uri": "https://localhost:8080/"
        },
        "id": "18_yi4BeTGQZ",
        "outputId": "f830fc47-8cce-4c3b-c83c-899bf5bbe84e"
      },
      "execution_count": 13,
      "outputs": [
        {
          "output_type": "stream",
          "name": "stdout",
          "text": [
            "enter your namejensy\n",
            "enter your roll number21\n",
            "Enter your emailjensy@gmail.com\n",
            "enter your placekakkanad\n",
            "your name is jensy\n",
            "your roll number is 21\n",
            "your email is jensy@gmail.com\n",
            "you are from kakkanad\n"
          ]
        }
      ]
    },
    {
      "cell_type": "code",
      "source": [
        "def first():\n",
        "  print(\"your first name is\",x[0:6])\n",
        "def last():\n",
        "  print(\"your last name is\",x[6:9])"
      ],
      "metadata": {
        "id": "Mdb_ujPlTs2d"
      },
      "execution_count": 18,
      "outputs": []
    },
    {
      "cell_type": "code",
      "source": [
        "x=input(\"enter your full name\")\n",
        "first()\n",
        "last()"
      ],
      "metadata": {
        "colab": {
          "base_uri": "https://localhost:8080/"
        },
        "id": "QgGZnEgUXQ7J",
        "outputId": "6a0cf8d7-1faf-4239-84e7-7305da6eef94"
      },
      "execution_count": 19,
      "outputs": [
        {
          "output_type": "stream",
          "name": "stdout",
          "text": [
            "enter your full nameangel liz\n",
            "your first name is angel \n",
            "your last name is liz\n"
          ]
        }
      ]
    },
    {
      "cell_type": "code",
      "source": [
        "def num1():\n",
        "  print(\"first number is\",y)\n",
        "def num2():\n",
        "  print(\"second number is\",x)\n"
      ],
      "metadata": {
        "id": "ufw8wJzXYIbD"
      },
      "execution_count": 20,
      "outputs": []
    },
    {
      "cell_type": "code",
      "source": [
        "x=int(input(\"enter first number\"))\n",
        "y=int(input(\"enter second number\"))\n",
        "num1()\n",
        "num2()"
      ],
      "metadata": {
        "colab": {
          "base_uri": "https://localhost:8080/"
        },
        "id": "0WMshfVyY6XS",
        "outputId": "8fa00cb0-111a-46ce-f57e-fbc382e3bf93"
      },
      "execution_count": 21,
      "outputs": [
        {
          "output_type": "stream",
          "name": "stdout",
          "text": [
            "enter first number1\n",
            "enter second number3\n",
            "first number is 3\n",
            "second number is 1\n"
          ]
        }
      ]
    },
    {
      "cell_type": "code",
      "source": [
        "def num1(x,y):\n",
        "  x,y=y,x\n",
        "  print(\"swapped numbers are\", x,y)"
      ],
      "metadata": {
        "id": "RBhV7yJVZYOZ"
      },
      "execution_count": 22,
      "outputs": []
    },
    {
      "cell_type": "code",
      "source": [
        "x=int(input(\"enter 1st number\"))\n",
        "y=int(input(\"enter 2nd number\"))\n",
        "num1(x,y)"
      ],
      "metadata": {
        "colab": {
          "base_uri": "https://localhost:8080/"
        },
        "id": "XQSm-h56bs4P",
        "outputId": "80316c53-40c8-4a24-b17d-f23be522b4a6"
      },
      "execution_count": 23,
      "outputs": [
        {
          "output_type": "stream",
          "name": "stdout",
          "text": [
            "enter 1st number12\n",
            "enter 2nd number7\n",
            "swapped numbers are 7 12\n"
          ]
        }
      ]
    },
    {
      "cell_type": "code",
      "source": [
        "def swap():\n",
        "  print(\"number swapped is \",x[1]+x[0])"
      ],
      "metadata": {
        "id": "3-xfhsXYb-pK"
      },
      "execution_count": 29,
      "outputs": []
    },
    {
      "cell_type": "code",
      "source": [
        "x=(input(\"enter a two digit number\"))\n",
        "swap()"
      ],
      "metadata": {
        "colab": {
          "base_uri": "https://localhost:8080/"
        },
        "id": "arIyxT5eheIC",
        "outputId": "e22cd8ea-a78c-4922-85f1-255008b62088"
      },
      "execution_count": 31,
      "outputs": [
        {
          "output_type": "stream",
          "name": "stdout",
          "text": [
            "enter a two digit number89\n",
            "number swapped is  98\n"
          ]
        }
      ]
    },
    {
      "cell_type": "code",
      "source": [],
      "metadata": {
        "id": "MI9VeIm2hr8v"
      },
      "execution_count": 30,
      "outputs": []
    }
  ]
}