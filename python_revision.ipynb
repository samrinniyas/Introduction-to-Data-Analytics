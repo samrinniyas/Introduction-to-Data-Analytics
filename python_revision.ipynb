{
  "nbformat": 4,
  "nbformat_minor": 0,
  "metadata": {
    "colab": {
      "provenance": [],
      "authorship_tag": "ABX9TyPebuqKbVmkg0svGnRGLDw+",
      "include_colab_link": true
    },
    "kernelspec": {
      "name": "python3",
      "display_name": "Python 3"
    },
    "language_info": {
      "name": "python"
    }
  },
  "cells": [
    {
      "cell_type": "markdown",
      "metadata": {
        "id": "view-in-github",
        "colab_type": "text"
      },
      "source": [
        "<a href=\"https://colab.research.google.com/github/samrinniyas/Introduction-to-Data-Analytics/blob/main/python_revision.ipynb\" target=\"_parent\"><img src=\"https://colab.research.google.com/assets/colab-badge.svg\" alt=\"Open In Colab\"/></a>"
      ]
    },
    {
      "cell_type": "code",
      "execution_count": 3,
      "metadata": {
        "id": "ZF016SrnY3Au"
      },
      "outputs": [],
      "source": [
        "def m():\n",
        "  x=[1,2,3,4,5,6,7,8,9,10]\n",
        "  y=sum(x)\n",
        "  print(y)"
      ]
    },
    {
      "cell_type": "code",
      "source": [
        "m()"
      ],
      "metadata": {
        "colab": {
          "base_uri": "https://localhost:8080/"
        },
        "id": "lxjzKyc9aHdO",
        "outputId": "0d10f05a-abbb-45d1-8b06-ed7ab608091f"
      },
      "execution_count": 4,
      "outputs": [
        {
          "output_type": "stream",
          "name": "stdout",
          "text": [
            "55\n"
          ]
        }
      ]
    },
    {
      "cell_type": "code",
      "source": [
        "x=[4,7,9,6,3,1,2]\n",
        "def e():\n",
        "   for num in x:\n",
        "     if num % 2!=0:\n",
        "       print(\"odd numbers\", num)\n",
        "   for num in x:\n",
        "     if num % 2==0:\n",
        "       print(\"even numbers\",num)     "
      ],
      "metadata": {
        "id": "p-1cY0m1ar44"
      },
      "execution_count": 7,
      "outputs": []
    },
    {
      "cell_type": "code",
      "source": [
        "e()"
      ],
      "metadata": {
        "colab": {
          "base_uri": "https://localhost:8080/"
        },
        "id": "_NbaUWjWfRKv",
        "outputId": "b5586f3f-f726-4eca-f0ee-203e6789a780"
      },
      "execution_count": 8,
      "outputs": [
        {
          "output_type": "stream",
          "name": "stdout",
          "text": [
            "odd numbers 7\n",
            "odd numbers 9\n",
            "odd numbers 3\n",
            "odd numbers 1\n",
            "even numbers 4\n",
            "even numbers 6\n",
            "even numbers 2\n"
          ]
        }
      ]
    },
    {
      "cell_type": "code",
      "source": [
        "a=\"Python is a high-level, general-purpose programming language\"\n",
        "vowels=['a','e','i','o','u']\n",
        "\n",
        "b=\" \"\n",
        "\n",
        "\n",
        "for i in range(len(a)):\n",
        "   if a[i] not in vowels:\n",
        "     b=b+a[i]\n",
        "print(b)"
      ],
      "metadata": {
        "colab": {
          "base_uri": "https://localhost:8080/"
        },
        "id": "MTbazyMGfvLp",
        "outputId": "1ac8f7ed-4107-4c0b-bc53-a04da05fc682"
      },
      "execution_count": 12,
      "outputs": [
        {
          "output_type": "stream",
          "name": "stdout",
          "text": [
            " Pythn s  hgh-lvl, gnrl-prps prgrmmng lngg\n"
          ]
        }
      ]
    },
    {
      "cell_type": "code",
      "source": [],
      "metadata": {
        "id": "3Uf6S9UYrXU8"
      },
      "execution_count": null,
      "outputs": []
    }
  ]
}