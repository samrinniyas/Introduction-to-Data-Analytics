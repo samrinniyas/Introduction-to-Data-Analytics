{
  "nbformat": 4,
  "nbformat_minor": 0,
  "metadata": {
    "colab": {
      "provenance": [],
      "authorship_tag": "ABX9TyM7dmiQVjGdidCP266vz6rW",
      "include_colab_link": true
    },
    "kernelspec": {
      "name": "python3",
      "display_name": "Python 3"
    },
    "language_info": {
      "name": "python"
    }
  },
  "cells": [
    {
      "cell_type": "markdown",
      "metadata": {
        "id": "view-in-github",
        "colab_type": "text"
      },
      "source": [
        "<a href=\"https://colab.research.google.com/github/samrinniyas/Introduction-to-Data-Analytics/blob/main/revision4.ipynb\" target=\"_parent\"><img src=\"https://colab.research.google.com/assets/colab-badge.svg\" alt=\"Open In Colab\"/></a>"
      ]
    },
    {
      "cell_type": "code",
      "execution_count": 1,
      "metadata": {
        "colab": {
          "base_uri": "https://localhost:8080/"
        },
        "id": "0vompkyNxlq_",
        "outputId": "34eb31ad-1f2a-4d3b-dba7-b3392f470990"
      },
      "outputs": [
        {
          "output_type": "stream",
          "name": "stdout",
          "text": [
            "This is \"Python \" programming\n"
          ]
        }
      ],
      "source": [
        "x = \"This is \\\"Python \\\" programming\"\n",
        "print(x)"
      ]
    },
    {
      "cell_type": "code",
      "source": [
        "x = 'He\\'s is a doctor'\n",
        "print(x)"
      ],
      "metadata": {
        "colab": {
          "base_uri": "https://localhost:8080/"
        },
        "id": "78RkiSPKyRB8",
        "outputId": "129d907c-274b-4aee-939a-28952b2c9699"
      },
      "execution_count": 3,
      "outputs": [
        {
          "output_type": "stream",
          "name": "stdout",
          "text": [
            "He's is a doctor\n"
          ]
        }
      ]
    },
    {
      "cell_type": "code",
      "source": [
        "print(\"\\\"Fathima\\\" Samrin \")"
      ],
      "metadata": {
        "colab": {
          "base_uri": "https://localhost:8080/"
        },
        "id": "2FUXL6Zlykv8",
        "outputId": "314020fc-64cf-4b33-83e4-21b38f76289a"
      },
      "execution_count": 4,
      "outputs": [
        {
          "output_type": "stream",
          "name": "stdout",
          "text": [
            "\"Fathima\" Samrin \n"
          ]
        }
      ]
    },
    {
      "cell_type": "code",
      "source": [
        "print(\"Fathima \\nSamrin\")"
      ],
      "metadata": {
        "colab": {
          "base_uri": "https://localhost:8080/"
        },
        "id": "ikPSq4Qaz4c4",
        "outputId": "cbadb803-af7e-4911-cc44-5c3acc5e45fa"
      },
      "execution_count": 5,
      "outputs": [
        {
          "output_type": "stream",
          "name": "stdout",
          "text": [
            "Fathima \n",
            "Samrin\n"
          ]
        }
      ]
    },
    {
      "cell_type": "code",
      "source": [
        "x=[\"Jhon\",\"Mary\",\"David\", \"Adam\"]\n",
        "y=input(\"enter a name\")\n",
        "z=int(input(\"enter index\"))\n",
        "x.insert(z,y)\n",
        "print(x)"
      ],
      "metadata": {
        "colab": {
          "base_uri": "https://localhost:8080/"
        },
        "id": "5v_Q_tJD1UNf",
        "outputId": "fbaa9ba5-e07b-4008-aaf6-cb5eaac376a0"
      },
      "execution_count": 11,
      "outputs": [
        {
          "output_type": "stream",
          "name": "stdout",
          "text": [
            "enter a namesamrin\n",
            "enter index2\n",
            "['Jhon', 'Mary', 'samrin', 'David', 'Adam']\n"
          ]
        }
      ]
    },
    {
      "cell_type": "code",
      "source": [
        "def samrin():\n",
        "  x=[\"samrin\",\"angel\",\"jency\"]\n",
        "  y=int(input(\"enter index\"))\n",
        "  n=input(\"enter a name\")\n",
        "  x.insert(y,n)\n",
        "  print(x)"
      ],
      "metadata": {
        "id": "n0-8h5b03Zvc"
      },
      "execution_count": 16,
      "outputs": []
    },
    {
      "cell_type": "code",
      "source": [
        "samrin()"
      ],
      "metadata": {
        "colab": {
          "base_uri": "https://localhost:8080/"
        },
        "id": "VjTtBuG2-Yp-",
        "outputId": "eaa5de9d-b458-4f6a-8fb1-f90f3303c00b"
      },
      "execution_count": 17,
      "outputs": [
        {
          "output_type": "stream",
          "name": "stdout",
          "text": [
            "enter index1\n",
            "enter a nameliza\n",
            "['samrin', 'liza', 'angel', 'jency']\n"
          ]
        }
      ]
    },
    {
      "cell_type": "code",
      "source": [
        "def maths():\n",
        "  x=int(input(\"enter a number\"))\n",
        "  y=int(input(\"enter asecond number\"))\n",
        "  print(x+y)\n",
        "  print(x-y)\n",
        "  print(x*y)\n",
        "  print(x/y)"
      ],
      "metadata": {
        "id": "N6D1uuZC-cSt"
      },
      "execution_count": 19,
      "outputs": []
    },
    {
      "cell_type": "code",
      "source": [
        "maths()"
      ],
      "metadata": {
        "colab": {
          "base_uri": "https://localhost:8080/"
        },
        "id": "YFcVhYTp__31",
        "outputId": "f52767a7-0d7b-46e0-d63a-255738253053"
      },
      "execution_count": 20,
      "outputs": [
        {
          "output_type": "stream",
          "name": "stdout",
          "text": [
            "enter a number12\n",
            "enter asecond number10\n",
            "22\n",
            "2\n",
            "120\n",
            "1.2\n"
          ]
        }
      ]
    },
    {
      "cell_type": "code",
      "source": [
        "def ABC(a,b):\n",
        "  print(a+b)"
      ],
      "metadata": {
        "id": "prn1DENEAJSF"
      },
      "execution_count": 29,
      "outputs": []
    },
    {
      "cell_type": "code",
      "source": [
        "x=int(input(\"enter first value\"))\n",
        "y=int(input(\"enter second value\"))\n",
        "ABC(x,y)"
      ],
      "metadata": {
        "colab": {
          "base_uri": "https://localhost:8080/"
        },
        "id": "zdELPtZ6FFEC",
        "outputId": "f4557f82-173e-415d-8274-4f5e9de30c4e"
      },
      "execution_count": 30,
      "outputs": [
        {
          "output_type": "stream",
          "name": "stdout",
          "text": [
            "enter first value10\n",
            "enter second value20\n",
            "30\n"
          ]
        }
      ]
    },
    {
      "cell_type": "code",
      "source": [],
      "metadata": {
        "id": "lYbzRvzOGRdR"
      },
      "execution_count": null,
      "outputs": []
    }
  ]
}