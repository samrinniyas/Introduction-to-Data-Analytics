{
  "nbformat": 4,
  "nbformat_minor": 0,
  "metadata": {
    "colab": {
      "provenance": [],
      "authorship_tag": "ABX9TyPODNg7T5Re1HWZF+TAa08g",
      "include_colab_link": true
    },
    "kernelspec": {
      "name": "python3",
      "display_name": "Python 3"
    },
    "language_info": {
      "name": "python"
    }
  },
  "cells": [
    {
      "cell_type": "markdown",
      "metadata": {
        "id": "view-in-github",
        "colab_type": "text"
      },
      "source": [
        "<a href=\"https://colab.research.google.com/github/samrinniyas/Introduction-to-Data-Analytics/blob/main/revision9.ipynb\" target=\"_parent\"><img src=\"https://colab.research.google.com/assets/colab-badge.svg\" alt=\"Open In Colab\"/></a>"
      ]
    },
    {
      "cell_type": "code",
      "execution_count": 2,
      "metadata": {
        "id": "wb6nZsY7mDkM"
      },
      "outputs": [],
      "source": [
        "import numpy as np\n",
        "import matplotlib.pyplot as plt\n",
        "import pandas as pd"
      ]
    },
    {
      "cell_type": "code",
      "source": [
        "dataset=pd.read_csv('TATAMOTORS.NS.csv')"
      ],
      "metadata": {
        "id": "zfs5GUWUmTle"
      },
      "execution_count": 4,
      "outputs": []
    },
    {
      "cell_type": "code",
      "source": [
        "dataset"
      ],
      "metadata": {
        "colab": {
          "base_uri": "https://localhost:8080/",
          "height": 423
        },
        "id": "FmPnQ8N3oGln",
        "outputId": "08e9ea62-e476-4feb-904c-c1287450cb1e"
      },
      "execution_count": 6,
      "outputs": [
        {
          "output_type": "execute_result",
          "data": {
            "text/plain": [
              "      Date        Open        High         Low       Close   Adj Close  \\\n",
              "0      1.0  455.950012  461.549988  405.450012  427.950012  427.950012   \n",
              "1      2.0  444.850006  465.700012  441.600006  459.750000  459.750000   \n",
              "2      3.0  445.000000  457.350006  440.450012  454.049988  454.049988   \n",
              "3      4.0  452.950012  454.250000  444.549988  447.600006  447.600006   \n",
              "4      5.0  458.500000  458.500000  435.000000  437.100006  437.100006   \n",
              "..     ...         ...         ...         ...         ...         ...   \n",
              "245  246.0  441.799988  445.299988  436.250000  443.000000  443.000000   \n",
              "246  247.0  445.200012  445.200012  435.250000  436.500000  436.500000   \n",
              "247  248.0  435.299988  435.850006  428.250000  429.450012  429.450012   \n",
              "248  249.0  428.649994  436.450012  427.200012  433.200012  433.200012   \n",
              "249  250.0  435.399994  436.700012  427.299988  428.299988  428.299988   \n",
              "\n",
              "       Volume  \n",
              "0    57265685  \n",
              "1    48876182  \n",
              "2    34475468  \n",
              "3    25791134  \n",
              "4    29599672  \n",
              "..        ...  \n",
              "245   9717197  \n",
              "246   8957930  \n",
              "247   7209130  \n",
              "248   9278920  \n",
              "249   5617136  \n",
              "\n",
              "[250 rows x 7 columns]"
            ],
            "text/html": [
              "\n",
              "  <div id=\"df-9778f3b8-eca5-47e6-8b17-a3ae89ed3ff3\">\n",
              "    <div class=\"colab-df-container\">\n",
              "      <div>\n",
              "<style scoped>\n",
              "    .dataframe tbody tr th:only-of-type {\n",
              "        vertical-align: middle;\n",
              "    }\n",
              "\n",
              "    .dataframe tbody tr th {\n",
              "        vertical-align: top;\n",
              "    }\n",
              "\n",
              "    .dataframe thead th {\n",
              "        text-align: right;\n",
              "    }\n",
              "</style>\n",
              "<table border=\"1\" class=\"dataframe\">\n",
              "  <thead>\n",
              "    <tr style=\"text-align: right;\">\n",
              "      <th></th>\n",
              "      <th>Date</th>\n",
              "      <th>Open</th>\n",
              "      <th>High</th>\n",
              "      <th>Low</th>\n",
              "      <th>Close</th>\n",
              "      <th>Adj Close</th>\n",
              "      <th>Volume</th>\n",
              "    </tr>\n",
              "  </thead>\n",
              "  <tbody>\n",
              "    <tr>\n",
              "      <th>0</th>\n",
              "      <td>1.0</td>\n",
              "      <td>455.950012</td>\n",
              "      <td>461.549988</td>\n",
              "      <td>405.450012</td>\n",
              "      <td>427.950012</td>\n",
              "      <td>427.950012</td>\n",
              "      <td>57265685</td>\n",
              "    </tr>\n",
              "    <tr>\n",
              "      <th>1</th>\n",
              "      <td>2.0</td>\n",
              "      <td>444.850006</td>\n",
              "      <td>465.700012</td>\n",
              "      <td>441.600006</td>\n",
              "      <td>459.750000</td>\n",
              "      <td>459.750000</td>\n",
              "      <td>48876182</td>\n",
              "    </tr>\n",
              "    <tr>\n",
              "      <th>2</th>\n",
              "      <td>3.0</td>\n",
              "      <td>445.000000</td>\n",
              "      <td>457.350006</td>\n",
              "      <td>440.450012</td>\n",
              "      <td>454.049988</td>\n",
              "      <td>454.049988</td>\n",
              "      <td>34475468</td>\n",
              "    </tr>\n",
              "    <tr>\n",
              "      <th>3</th>\n",
              "      <td>4.0</td>\n",
              "      <td>452.950012</td>\n",
              "      <td>454.250000</td>\n",
              "      <td>444.549988</td>\n",
              "      <td>447.600006</td>\n",
              "      <td>447.600006</td>\n",
              "      <td>25791134</td>\n",
              "    </tr>\n",
              "    <tr>\n",
              "      <th>4</th>\n",
              "      <td>5.0</td>\n",
              "      <td>458.500000</td>\n",
              "      <td>458.500000</td>\n",
              "      <td>435.000000</td>\n",
              "      <td>437.100006</td>\n",
              "      <td>437.100006</td>\n",
              "      <td>29599672</td>\n",
              "    </tr>\n",
              "    <tr>\n",
              "      <th>...</th>\n",
              "      <td>...</td>\n",
              "      <td>...</td>\n",
              "      <td>...</td>\n",
              "      <td>...</td>\n",
              "      <td>...</td>\n",
              "      <td>...</td>\n",
              "      <td>...</td>\n",
              "    </tr>\n",
              "    <tr>\n",
              "      <th>245</th>\n",
              "      <td>246.0</td>\n",
              "      <td>441.799988</td>\n",
              "      <td>445.299988</td>\n",
              "      <td>436.250000</td>\n",
              "      <td>443.000000</td>\n",
              "      <td>443.000000</td>\n",
              "      <td>9717197</td>\n",
              "    </tr>\n",
              "    <tr>\n",
              "      <th>246</th>\n",
              "      <td>247.0</td>\n",
              "      <td>445.200012</td>\n",
              "      <td>445.200012</td>\n",
              "      <td>435.250000</td>\n",
              "      <td>436.500000</td>\n",
              "      <td>436.500000</td>\n",
              "      <td>8957930</td>\n",
              "    </tr>\n",
              "    <tr>\n",
              "      <th>247</th>\n",
              "      <td>248.0</td>\n",
              "      <td>435.299988</td>\n",
              "      <td>435.850006</td>\n",
              "      <td>428.250000</td>\n",
              "      <td>429.450012</td>\n",
              "      <td>429.450012</td>\n",
              "      <td>7209130</td>\n",
              "    </tr>\n",
              "    <tr>\n",
              "      <th>248</th>\n",
              "      <td>249.0</td>\n",
              "      <td>428.649994</td>\n",
              "      <td>436.450012</td>\n",
              "      <td>427.200012</td>\n",
              "      <td>433.200012</td>\n",
              "      <td>433.200012</td>\n",
              "      <td>9278920</td>\n",
              "    </tr>\n",
              "    <tr>\n",
              "      <th>249</th>\n",
              "      <td>250.0</td>\n",
              "      <td>435.399994</td>\n",
              "      <td>436.700012</td>\n",
              "      <td>427.299988</td>\n",
              "      <td>428.299988</td>\n",
              "      <td>428.299988</td>\n",
              "      <td>5617136</td>\n",
              "    </tr>\n",
              "  </tbody>\n",
              "</table>\n",
              "<p>250 rows × 7 columns</p>\n",
              "</div>\n",
              "      <button class=\"colab-df-convert\" onclick=\"convertToInteractive('df-9778f3b8-eca5-47e6-8b17-a3ae89ed3ff3')\"\n",
              "              title=\"Convert this dataframe to an interactive table.\"\n",
              "              style=\"display:none;\">\n",
              "        \n",
              "  <svg xmlns=\"http://www.w3.org/2000/svg\" height=\"24px\"viewBox=\"0 0 24 24\"\n",
              "       width=\"24px\">\n",
              "    <path d=\"M0 0h24v24H0V0z\" fill=\"none\"/>\n",
              "    <path d=\"M18.56 5.44l.94 2.06.94-2.06 2.06-.94-2.06-.94-.94-2.06-.94 2.06-2.06.94zm-11 1L8.5 8.5l.94-2.06 2.06-.94-2.06-.94L8.5 2.5l-.94 2.06-2.06.94zm10 10l.94 2.06.94-2.06 2.06-.94-2.06-.94-.94-2.06-.94 2.06-2.06.94z\"/><path d=\"M17.41 7.96l-1.37-1.37c-.4-.4-.92-.59-1.43-.59-.52 0-1.04.2-1.43.59L10.3 9.45l-7.72 7.72c-.78.78-.78 2.05 0 2.83L4 21.41c.39.39.9.59 1.41.59.51 0 1.02-.2 1.41-.59l7.78-7.78 2.81-2.81c.8-.78.8-2.07 0-2.86zM5.41 20L4 18.59l7.72-7.72 1.47 1.35L5.41 20z\"/>\n",
              "  </svg>\n",
              "      </button>\n",
              "      \n",
              "  <style>\n",
              "    .colab-df-container {\n",
              "      display:flex;\n",
              "      flex-wrap:wrap;\n",
              "      gap: 12px;\n",
              "    }\n",
              "\n",
              "    .colab-df-convert {\n",
              "      background-color: #E8F0FE;\n",
              "      border: none;\n",
              "      border-radius: 50%;\n",
              "      cursor: pointer;\n",
              "      display: none;\n",
              "      fill: #1967D2;\n",
              "      height: 32px;\n",
              "      padding: 0 0 0 0;\n",
              "      width: 32px;\n",
              "    }\n",
              "\n",
              "    .colab-df-convert:hover {\n",
              "      background-color: #E2EBFA;\n",
              "      box-shadow: 0px 1px 2px rgba(60, 64, 67, 0.3), 0px 1px 3px 1px rgba(60, 64, 67, 0.15);\n",
              "      fill: #174EA6;\n",
              "    }\n",
              "\n",
              "    [theme=dark] .colab-df-convert {\n",
              "      background-color: #3B4455;\n",
              "      fill: #D2E3FC;\n",
              "    }\n",
              "\n",
              "    [theme=dark] .colab-df-convert:hover {\n",
              "      background-color: #434B5C;\n",
              "      box-shadow: 0px 1px 3px 1px rgba(0, 0, 0, 0.15);\n",
              "      filter: drop-shadow(0px 1px 2px rgba(0, 0, 0, 0.3));\n",
              "      fill: #FFFFFF;\n",
              "    }\n",
              "  </style>\n",
              "\n",
              "      <script>\n",
              "        const buttonEl =\n",
              "          document.querySelector('#df-9778f3b8-eca5-47e6-8b17-a3ae89ed3ff3 button.colab-df-convert');\n",
              "        buttonEl.style.display =\n",
              "          google.colab.kernel.accessAllowed ? 'block' : 'none';\n",
              "\n",
              "        async function convertToInteractive(key) {\n",
              "          const element = document.querySelector('#df-9778f3b8-eca5-47e6-8b17-a3ae89ed3ff3');\n",
              "          const dataTable =\n",
              "            await google.colab.kernel.invokeFunction('convertToInteractive',\n",
              "                                                     [key], {});\n",
              "          if (!dataTable) return;\n",
              "\n",
              "          const docLinkHtml = 'Like what you see? Visit the ' +\n",
              "            '<a target=\"_blank\" href=https://colab.research.google.com/notebooks/data_table.ipynb>data table notebook</a>'\n",
              "            + ' to learn more about interactive tables.';\n",
              "          element.innerHTML = '';\n",
              "          dataTable['output_type'] = 'display_data';\n",
              "          await google.colab.output.renderOutput(dataTable, element);\n",
              "          const docLink = document.createElement('div');\n",
              "          docLink.innerHTML = docLinkHtml;\n",
              "          element.appendChild(docLink);\n",
              "        }\n",
              "      </script>\n",
              "    </div>\n",
              "  </div>\n",
              "  "
            ]
          },
          "metadata": {},
          "execution_count": 6
        }
      ]
    },
    {
      "cell_type": "code",
      "source": [
        "x=dataset.iloc[:,:-1].values"
      ],
      "metadata": {
        "id": "vyf4pd2SoLHi"
      },
      "execution_count": 10,
      "outputs": []
    },
    {
      "cell_type": "code",
      "source": [
        "x"
      ],
      "metadata": {
        "colab": {
          "base_uri": "https://localhost:8080/"
        },
        "id": "B2m7sQyyo9LH",
        "outputId": "817b2f24-8b25-4331-a7e1-3fa423b22eb7"
      },
      "execution_count": 11,
      "outputs": [
        {
          "output_type": "execute_result",
          "data": {
            "text/plain": [
              "array([[  1.      , 455.950012, 461.549988, 405.450012, 427.950012,\n",
              "        427.950012],\n",
              "       [  2.      , 444.850006, 465.700012, 441.600006, 459.75    ,\n",
              "        459.75    ],\n",
              "       [  3.      , 445.      , 457.350006, 440.450012, 454.049988,\n",
              "        454.049988],\n",
              "       ...,\n",
              "       [248.      , 435.299988, 435.850006, 428.25    , 429.450012,\n",
              "        429.450012],\n",
              "       [249.      , 428.649994, 436.450012, 427.200012, 433.200012,\n",
              "        433.200012],\n",
              "       [250.      , 435.399994, 436.700012, 427.299988, 428.299988,\n",
              "        428.299988]])"
            ]
          },
          "metadata": {},
          "execution_count": 11
        }
      ]
    },
    {
      "cell_type": "code",
      "source": [
        "len(x)"
      ],
      "metadata": {
        "colab": {
          "base_uri": "https://localhost:8080/"
        },
        "id": "wfQt68Tmo-lC",
        "outputId": "0b1bfe16-58f7-45b2-af6f-e6faf992190e"
      },
      "execution_count": 12,
      "outputs": [
        {
          "output_type": "execute_result",
          "data": {
            "text/plain": [
              "250"
            ]
          },
          "metadata": {},
          "execution_count": 12
        }
      ]
    },
    {
      "cell_type": "code",
      "source": [
        "x=\"Fathima Samrin\""
      ],
      "metadata": {
        "id": "Ti5rU88LprNK"
      },
      "execution_count": 13,
      "outputs": []
    },
    {
      "cell_type": "code",
      "source": [
        "x[0]"
      ],
      "metadata": {
        "colab": {
          "base_uri": "https://localhost:8080/",
          "height": 35
        },
        "id": "yyGWSdjCqi-v",
        "outputId": "f62025b5-dccc-4eda-e334-2553896729d1"
      },
      "execution_count": 14,
      "outputs": [
        {
          "output_type": "execute_result",
          "data": {
            "text/plain": [
              "'F'"
            ],
            "application/vnd.google.colaboratory.intrinsic+json": {
              "type": "string"
            }
          },
          "metadata": {},
          "execution_count": 14
        }
      ]
    },
    {
      "cell_type": "code",
      "source": [
        "x[0:3]"
      ],
      "metadata": {
        "colab": {
          "base_uri": "https://localhost:8080/",
          "height": 35
        },
        "id": "6EjX_aiEqkhX",
        "outputId": "d56f8a08-98b5-4dbb-9b9b-9a5a26125645"
      },
      "execution_count": 17,
      "outputs": [
        {
          "output_type": "execute_result",
          "data": {
            "text/plain": [
              "'Fat'"
            ],
            "application/vnd.google.colaboratory.intrinsic+json": {
              "type": "string"
            }
          },
          "metadata": {},
          "execution_count": 17
        }
      ]
    },
    {
      "cell_type": "code",
      "source": [
        "x[:2]"
      ],
      "metadata": {
        "colab": {
          "base_uri": "https://localhost:8080/",
          "height": 35
        },
        "id": "56sKXaNjqrF_",
        "outputId": "ab3990ae-8b98-436f-c584-e3ce9abf2632"
      },
      "execution_count": 18,
      "outputs": [
        {
          "output_type": "execute_result",
          "data": {
            "text/plain": [
              "'Fa'"
            ],
            "application/vnd.google.colaboratory.intrinsic+json": {
              "type": "string"
            }
          },
          "metadata": {},
          "execution_count": 18
        }
      ]
    },
    {
      "cell_type": "code",
      "source": [
        "x=dataset.iloc[:,0:1].values\n",
        "x"
      ],
      "metadata": {
        "colab": {
          "base_uri": "https://localhost:8080/"
        },
        "id": "O7Ishq8FrKU7",
        "outputId": "54055eff-4a79-446d-8fea-2048d1e5297a"
      },
      "execution_count": 22,
      "outputs": [
        {
          "output_type": "execute_result",
          "data": {
            "text/plain": [
              "array([[  1.],\n",
              "       [  2.],\n",
              "       [  3.],\n",
              "       [  4.],\n",
              "       [  5.],\n",
              "       [  6.],\n",
              "       [  7.],\n",
              "       [  8.],\n",
              "       [  9.],\n",
              "       [ 10.],\n",
              "       [ 11.],\n",
              "       [ 12.],\n",
              "       [ 13.],\n",
              "       [ 14.],\n",
              "       [ 15.],\n",
              "       [ 16.],\n",
              "       [ 17.],\n",
              "       [ 18.],\n",
              "       [ 19.],\n",
              "       [ 20.],\n",
              "       [ 21.],\n",
              "       [ 22.],\n",
              "       [ 23.],\n",
              "       [ 24.],\n",
              "       [ 25.],\n",
              "       [ 26.],\n",
              "       [ 27.],\n",
              "       [ 28.],\n",
              "       [ 29.],\n",
              "       [ 30.],\n",
              "       [ 31.],\n",
              "       [ 32.],\n",
              "       [ 33.],\n",
              "       [ 34.],\n",
              "       [ 35.],\n",
              "       [ 36.],\n",
              "       [ 37.],\n",
              "       [ 38.],\n",
              "       [ 39.],\n",
              "       [ 40.],\n",
              "       [ 41.],\n",
              "       [ 42.],\n",
              "       [ 43.],\n",
              "       [ 44.],\n",
              "       [ 45.],\n",
              "       [ 46.],\n",
              "       [ 47.],\n",
              "       [ 48.],\n",
              "       [ 49.],\n",
              "       [ 50.],\n",
              "       [ 51.],\n",
              "       [ 52.],\n",
              "       [ 53.],\n",
              "       [ 54.],\n",
              "       [ 55.],\n",
              "       [ 56.],\n",
              "       [ 57.],\n",
              "       [ 58.],\n",
              "       [ 59.],\n",
              "       [ 60.],\n",
              "       [ 61.],\n",
              "       [ 62.],\n",
              "       [ 63.],\n",
              "       [ 64.],\n",
              "       [ 65.],\n",
              "       [ 66.],\n",
              "       [ 67.],\n",
              "       [ 68.],\n",
              "       [ 69.],\n",
              "       [ 70.],\n",
              "       [ 71.],\n",
              "       [ 72.],\n",
              "       [ 73.],\n",
              "       [ 74.],\n",
              "       [ 75.],\n",
              "       [ 76.],\n",
              "       [ 77.],\n",
              "       [ 78.],\n",
              "       [ 79.],\n",
              "       [ 80.],\n",
              "       [ 81.],\n",
              "       [ 82.],\n",
              "       [ 83.],\n",
              "       [ 84.],\n",
              "       [ 85.],\n",
              "       [ 86.],\n",
              "       [ 87.],\n",
              "       [ 88.],\n",
              "       [ 89.],\n",
              "       [ 90.],\n",
              "       [ 91.],\n",
              "       [ 92.],\n",
              "       [ 93.],\n",
              "       [ 94.],\n",
              "       [ 95.],\n",
              "       [ 96.],\n",
              "       [ 97.],\n",
              "       [ 98.],\n",
              "       [ 99.],\n",
              "       [100.],\n",
              "       [101.],\n",
              "       [102.],\n",
              "       [103.],\n",
              "       [104.],\n",
              "       [105.],\n",
              "       [106.],\n",
              "       [107.],\n",
              "       [108.],\n",
              "       [109.],\n",
              "       [110.],\n",
              "       [111.],\n",
              "       [112.],\n",
              "       [113.],\n",
              "       [114.],\n",
              "       [115.],\n",
              "       [116.],\n",
              "       [117.],\n",
              "       [118.],\n",
              "       [119.],\n",
              "       [120.],\n",
              "       [121.],\n",
              "       [122.],\n",
              "       [123.],\n",
              "       [124.],\n",
              "       [125.],\n",
              "       [126.],\n",
              "       [127.],\n",
              "       [128.],\n",
              "       [129.],\n",
              "       [130.],\n",
              "       [131.],\n",
              "       [132.],\n",
              "       [133.],\n",
              "       [134.],\n",
              "       [135.],\n",
              "       [136.],\n",
              "       [137.],\n",
              "       [138.],\n",
              "       [139.],\n",
              "       [140.],\n",
              "       [141.],\n",
              "       [142.],\n",
              "       [143.],\n",
              "       [144.],\n",
              "       [145.],\n",
              "       [146.],\n",
              "       [147.],\n",
              "       [148.],\n",
              "       [149.],\n",
              "       [150.],\n",
              "       [151.],\n",
              "       [152.],\n",
              "       [153.],\n",
              "       [154.],\n",
              "       [155.],\n",
              "       [156.],\n",
              "       [157.],\n",
              "       [158.],\n",
              "       [159.],\n",
              "       [160.],\n",
              "       [161.],\n",
              "       [162.],\n",
              "       [163.],\n",
              "       [164.],\n",
              "       [165.],\n",
              "       [166.],\n",
              "       [167.],\n",
              "       [168.],\n",
              "       [169.],\n",
              "       [170.],\n",
              "       [171.],\n",
              "       [172.],\n",
              "       [173.],\n",
              "       [174.],\n",
              "       [175.],\n",
              "       [176.],\n",
              "       [177.],\n",
              "       [178.],\n",
              "       [179.],\n",
              "       [180.],\n",
              "       [181.],\n",
              "       [182.],\n",
              "       [183.],\n",
              "       [184.],\n",
              "       [185.],\n",
              "       [186.],\n",
              "       [187.],\n",
              "       [188.],\n",
              "       [189.],\n",
              "       [190.],\n",
              "       [191.],\n",
              "       [192.],\n",
              "       [193.],\n",
              "       [194.],\n",
              "       [195.],\n",
              "       [196.],\n",
              "       [197.],\n",
              "       [198.],\n",
              "       [199.],\n",
              "       [200.],\n",
              "       [201.],\n",
              "       [202.],\n",
              "       [203.],\n",
              "       [204.],\n",
              "       [205.],\n",
              "       [206.],\n",
              "       [207.],\n",
              "       [208.],\n",
              "       [209.],\n",
              "       [210.],\n",
              "       [211.],\n",
              "       [212.],\n",
              "       [213.],\n",
              "       [214.],\n",
              "       [215.],\n",
              "       [216.],\n",
              "       [217.],\n",
              "       [218.],\n",
              "       [219.],\n",
              "       [220.],\n",
              "       [221.],\n",
              "       [222.],\n",
              "       [223.],\n",
              "       [224.],\n",
              "       [225.],\n",
              "       [226.],\n",
              "       [227.],\n",
              "       [228.],\n",
              "       [229.],\n",
              "       [230.],\n",
              "       [231.],\n",
              "       [232.],\n",
              "       [233.],\n",
              "       [234.],\n",
              "       [235.],\n",
              "       [236.],\n",
              "       [237.],\n",
              "       [238.],\n",
              "       [239.],\n",
              "       [240.],\n",
              "       [241.],\n",
              "       [242.],\n",
              "       [243.],\n",
              "       [244.],\n",
              "       [245.],\n",
              "       [246.],\n",
              "       [247.],\n",
              "       [248.],\n",
              "       [249.],\n",
              "       [250.]])"
            ]
          },
          "metadata": {},
          "execution_count": 22
        }
      ]
    },
    {
      "cell_type": "code",
      "source": [
        "y=dataset.iloc[:,1].values\n",
        "y"
      ],
      "metadata": {
        "colab": {
          "base_uri": "https://localhost:8080/"
        },
        "id": "1_hoqRI_s2qK",
        "outputId": "c5b91607-1b0b-4df3-f0af-603ae9518428"
      },
      "execution_count": 23,
      "outputs": [
        {
          "output_type": "execute_result",
          "data": {
            "text/plain": [
              "array([455.950012, 444.850006, 445.      , 452.950012, 458.5     ,\n",
              "       431.850006, 401.75    , 390.5     , 394.950012, 427.      ,\n",
              "       413.600006, 418.75    , 409.850006, 427.049988, 432.      ,\n",
              "       435.5     , 428.100006, 443.5     , 430.      , 437.      ,\n",
              "       432.      , 436.      , 438.450012, 436.      , 434.      ,\n",
              "       444.399994, 450.      , 455.899994, 456.5     , 450.      ,\n",
              "       457.      , 450.799988, 441.799988, 430.      , 436.75    ,\n",
              "       431.      , 444.5     , 442.049988, 432.75    , 433.899994,\n",
              "       429.25    , 434.799988, 440.200012, 437.950012, 437.950012,\n",
              "       429.      , 418.850006, 407.149994, 400.      , 396.      ,\n",
              "       382.      , 387.      , 411.899994, 408.399994, 424.      ,\n",
              "       400.      , 410.      , 421.649994, 423.899994, 428.450012,\n",
              "       422.      , 426.049988, 437.      , 443.950012, 445.100006,\n",
              "       445.      , 444.899994, 427.899994, 432.5     , 438.700012,\n",
              "       431.899994, 423.      , 414.899994, 403.      , 410.      ,\n",
              "       420.      , 387.950012, 390.549988, 389.      , 396.399994,\n",
              "       396.299988, 410.      , 417.549988, 411.299988, 412.049988,\n",
              "       418.299988, 410.649994, 411.549988, 415.      , 414.      ,\n",
              "       419.899994, 436.25    , 438.049988, 433.      , 432.700012,\n",
              "       428.      , 430.649994, 443.950012, 446.75    , 454.350006,\n",
              "       452.950012, 456.600006, 456.      , 448.700012, 441.149994,\n",
              "       440.25    , 445.149994, 451.950012, 478.899994, 475.      ,\n",
              "       473.149994, 468.899994, 466.      , 470.      , 482.549988,\n",
              "       475.75    , 479.600006, 490.899994, 484.      , 486.75    ,\n",
              "       468.5     , 449.      , 459.      , 466.      , 465.      ,\n",
              "       451.      , 458.649994, 462.5     , 470.850006, 459.75    ,\n",
              "       462.700012, 453.200012, 452.450012, 447.5     , 447.700012,\n",
              "       454.299988, 447.600006, 452.399994, 446.      , 431.5     ,\n",
              "       430.600006, 433.950012, 425.      , 431.899994, 416.      ,\n",
              "       403.899994, 394.899994, 411.      , 398.      , 405.5     ,\n",
              "       406.      , 409.600006, 413.399994, 403.399994, 397.      ,\n",
              "       394.549988, 396.549988, 407.      , 394.      , 401.      ,\n",
              "       406.200012, 397.      , 397.      , 406.      , 404.350006,\n",
              "       408.549988, 408.      , 414.350006, 414.899994, 423.049988,\n",
              "       419.399994, 418.200012, 428.25    , 439.200012, 420.5     ,\n",
              "       420.      , 424.      , 434.899994, 436.950012, 422.      ,\n",
              "       424.      , 425.600006, 421.      , 426.850006, 424.5     ,\n",
              "       425.      , 435.      , 432.5     , 435.      , 443.      ,\n",
              "       439.      , 435.5     , 428.799988, 428.      , 421.      ,\n",
              "       419.299988, 412.      , 419.950012, 420.549988, 418.850006,\n",
              "       417.350006, 421.899994, 418.      , 412.600006, 404.100006,\n",
              "       390.      , 380.25    , 390.      , 394.      , 389.      ,\n",
              "       391.      , 392.5     , 396.      , 394.799988, 387.899994,\n",
              "       386.100006, 386.350006, 400.      , 415.75    , 420.299988,\n",
              "       413.      , 413.5     , 413.      , 415.899994, 406.5     ,\n",
              "       404.      , 407.      , 410.      , 423.75    , 438.      ,\n",
              "       445.600006, 443.700012, 456.799988, 446.75    , 447.      ,\n",
              "       444.450012, 441.700012, 435.450012, 440.      , 437.950012,\n",
              "       445.5     , 442.      , 438.5     , 445.      , 436.      ,\n",
              "       441.799988, 445.200012, 435.299988, 428.649994, 435.399994])"
            ]
          },
          "metadata": {},
          "execution_count": 23
        }
      ]
    },
    {
      "cell_type": "code",
      "source": [
        "from sklearn.linear_model import LinearRegression\n",
        "regressor = LinearRegression()\n",
        "regressor.fit(x,y)"
      ],
      "metadata": {
        "colab": {
          "base_uri": "https://localhost:8080/"
        },
        "id": "lNyoFVS2tREC",
        "outputId": "806e7429-9251-4a06-e409-c71c31dfb643"
      },
      "execution_count": 24,
      "outputs": [
        {
          "output_type": "execute_result",
          "data": {
            "text/plain": [
              "LinearRegression()"
            ]
          },
          "metadata": {},
          "execution_count": 24
        }
      ]
    },
    {
      "cell_type": "code",
      "source": [
        "y_pred = regressor.predict(x)"
      ],
      "metadata": {
        "id": "M3T2kxEDwKaq"
      },
      "execution_count": 25,
      "outputs": []
    },
    {
      "cell_type": "code",
      "source": [
        "plt.scatter(x,y,color='red')\n",
        "plt.plot(x,regressor.predict(x),color='blue')\n",
        "plt.xlabel('Package')\n",
        "plt.ylabel('Sales')\n",
        "plt.show()"
      ],
      "metadata": {
        "colab": {
          "base_uri": "https://localhost:8080/",
          "height": 279
        },
        "id": "S_xXu9wxwTCQ",
        "outputId": "f1a0241f-81e7-4078-afc5-9a82719e6e6f"
      },
      "execution_count": 26,
      "outputs": [
        {
          "output_type": "display_data",
          "data": {
            "text/plain": [
              "<Figure size 432x288 with 1 Axes>"
            ],
            "image/png": "[encoded data removed]"
          },
          "metadata": {
            "needs_background": "light"
          }
        }
      ]
    },
    {
      "cell_type": "code",
      "source": [],
      "metadata": {
        "id": "-yFYLLVVxlG8"
      },
      "execution_count": null,
      "outputs": []
    }
  ]
}