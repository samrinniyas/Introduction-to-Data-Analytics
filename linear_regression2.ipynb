{
  "nbformat": 4,
  "nbformat_minor": 0,
  "metadata": {
    "colab": {
      "provenance": [],
      "authorship_tag": "ABX9TyMNVz41VvLadmwV16Kark9c",
      "include_colab_link": true
    },
    "kernelspec": {
      "name": "python3",
      "display_name": "Python 3"
    },
    "language_info": {
      "name": "python"
    }
  },
  "cells": [
    {
      "cell_type": "markdown",
      "metadata": {
        "id": "view-in-github",
        "colab_type": "text"
      },
      "source": [
        "<a href=\"https://colab.research.google.com/github/samrinniyas/Introduction-to-Data-Analytics/blob/main/linear_regression2.ipynb\" target=\"_parent\"><img src=\"https://colab.research.google.com/assets/colab-badge.svg\" alt=\"Open In Colab\"/></a>"
      ]
    },
    {
      "cell_type": "code",
      "execution_count": 1,
      "metadata": {
        "id": "ZB9v3igiHoO7"
      },
      "outputs": [],
      "source": [
        "import numpy as np\n",
        "import matplotlib.pyplot as plt\n",
        "import pandas as pd"
      ]
    },
    {
      "cell_type": "code",
      "source": [
        "dataset=pd.read_csv(\"APPLE.csv\")"
      ],
      "metadata": {
        "id": "X49RhnT0IQyo"
      },
      "execution_count": 2,
      "outputs": []
    },
    {
      "cell_type": "code",
      "source": [
        " x = dataset.iloc[:, :-1].values"
      ],
      "metadata": {
        "id": "zND-2bs6IkUk"
      },
      "execution_count": 15,
      "outputs": []
    },
    {
      "cell_type": "code",
      "source": [
        "x"
      ],
      "metadata": {
        "colab": {
          "base_uri": "https://localhost:8080/"
        },
        "id": "GGxl5hYFIlab",
        "outputId": "ce279124-ae82-4f3e-a9f6-48ff53f3cb8d"
      },
      "execution_count": 16,
      "outputs": [
        {
          "output_type": "execute_result",
          "data": {
            "text/plain": [
              "array([[  1.],\n",
              "       [  2.],\n",
              "       [  3.],\n",
              "       [  4.],\n",
              "       [  5.],\n",
              "       [  6.],\n",
              "       [  7.],\n",
              "       [  8.],\n",
              "       [  9.],\n",
              "       [ 10.],\n",
              "       [ 11.],\n",
              "       [ 12.],\n",
              "       [ 13.],\n",
              "       [ 14.],\n",
              "       [ 15.],\n",
              "       [ 16.],\n",
              "       [ 17.],\n",
              "       [ 18.],\n",
              "       [ 19.],\n",
              "       [ 20.],\n",
              "       [ 21.],\n",
              "       [ 22.],\n",
              "       [ 23.],\n",
              "       [ 24.],\n",
              "       [ 25.],\n",
              "       [ 26.],\n",
              "       [ 27.],\n",
              "       [ 28.],\n",
              "       [ 29.],\n",
              "       [ 30.],\n",
              "       [ 31.],\n",
              "       [ 32.],\n",
              "       [ 33.],\n",
              "       [ 34.],\n",
              "       [ 35.],\n",
              "       [ 36.],\n",
              "       [ 37.],\n",
              "       [ 38.],\n",
              "       [ 39.],\n",
              "       [ 40.],\n",
              "       [ 41.],\n",
              "       [ 42.],\n",
              "       [ 43.],\n",
              "       [ 44.],\n",
              "       [ 45.],\n",
              "       [ 46.],\n",
              "       [ 47.],\n",
              "       [ 48.],\n",
              "       [ 49.],\n",
              "       [ 50.],\n",
              "       [ 51.],\n",
              "       [ 52.],\n",
              "       [ 53.],\n",
              "       [ 54.],\n",
              "       [ 55.],\n",
              "       [ 56.],\n",
              "       [ 57.],\n",
              "       [ 58.],\n",
              "       [ 59.],\n",
              "       [ 60.],\n",
              "       [ 61.],\n",
              "       [ 62.],\n",
              "       [ 63.],\n",
              "       [ 64.],\n",
              "       [ 65.],\n",
              "       [ 66.],\n",
              "       [ 67.],\n",
              "       [ 68.],\n",
              "       [ 69.],\n",
              "       [ 70.],\n",
              "       [ 71.],\n",
              "       [ 72.],\n",
              "       [ 73.],\n",
              "       [ 74.],\n",
              "       [ 75.],\n",
              "       [ 76.],\n",
              "       [ 77.],\n",
              "       [ 78.],\n",
              "       [ 79.],\n",
              "       [ 80.],\n",
              "       [ 81.],\n",
              "       [ 82.],\n",
              "       [ 83.],\n",
              "       [ 84.],\n",
              "       [ 85.],\n",
              "       [ 86.],\n",
              "       [ 87.],\n",
              "       [ 88.],\n",
              "       [ 89.],\n",
              "       [ 90.],\n",
              "       [ 91.],\n",
              "       [ 92.],\n",
              "       [ 93.],\n",
              "       [ 94.],\n",
              "       [ 95.],\n",
              "       [ 96.],\n",
              "       [ 97.],\n",
              "       [ 98.],\n",
              "       [ 99.],\n",
              "       [100.],\n",
              "       [101.],\n",
              "       [102.],\n",
              "       [103.],\n",
              "       [104.],\n",
              "       [105.],\n",
              "       [106.],\n",
              "       [107.],\n",
              "       [108.],\n",
              "       [109.],\n",
              "       [110.],\n",
              "       [111.],\n",
              "       [112.],\n",
              "       [113.],\n",
              "       [114.],\n",
              "       [115.],\n",
              "       [116.],\n",
              "       [117.],\n",
              "       [118.],\n",
              "       [119.],\n",
              "       [120.],\n",
              "       [121.],\n",
              "       [122.],\n",
              "       [123.],\n",
              "       [124.],\n",
              "       [125.],\n",
              "       [126.],\n",
              "       [127.],\n",
              "       [128.],\n",
              "       [129.],\n",
              "       [130.],\n",
              "       [131.],\n",
              "       [132.],\n",
              "       [133.],\n",
              "       [134.],\n",
              "       [135.],\n",
              "       [136.],\n",
              "       [137.],\n",
              "       [138.],\n",
              "       [139.],\n",
              "       [140.],\n",
              "       [141.],\n",
              "       [142.],\n",
              "       [143.],\n",
              "       [144.],\n",
              "       [145.],\n",
              "       [146.],\n",
              "       [147.],\n",
              "       [148.],\n",
              "       [149.],\n",
              "       [150.],\n",
              "       [151.],\n",
              "       [152.],\n",
              "       [153.],\n",
              "       [154.],\n",
              "       [155.],\n",
              "       [156.],\n",
              "       [157.],\n",
              "       [158.],\n",
              "       [159.],\n",
              "       [160.],\n",
              "       [161.],\n",
              "       [162.],\n",
              "       [163.],\n",
              "       [164.],\n",
              "       [165.],\n",
              "       [166.],\n",
              "       [167.],\n",
              "       [168.],\n",
              "       [169.],\n",
              "       [170.],\n",
              "       [171.],\n",
              "       [172.],\n",
              "       [173.],\n",
              "       [174.],\n",
              "       [175.],\n",
              "       [176.],\n",
              "       [177.],\n",
              "       [178.],\n",
              "       [179.],\n",
              "       [180.],\n",
              "       [181.],\n",
              "       [182.],\n",
              "       [183.],\n",
              "       [184.],\n",
              "       [185.],\n",
              "       [186.],\n",
              "       [187.],\n",
              "       [188.],\n",
              "       [189.],\n",
              "       [190.],\n",
              "       [191.],\n",
              "       [192.],\n",
              "       [193.],\n",
              "       [194.],\n",
              "       [195.],\n",
              "       [196.],\n",
              "       [197.],\n",
              "       [198.],\n",
              "       [199.],\n",
              "       [200.],\n",
              "       [201.],\n",
              "       [202.],\n",
              "       [203.],\n",
              "       [204.],\n",
              "       [205.],\n",
              "       [206.],\n",
              "       [207.],\n",
              "       [208.],\n",
              "       [209.],\n",
              "       [210.],\n",
              "       [211.],\n",
              "       [212.],\n",
              "       [213.],\n",
              "       [214.],\n",
              "       [215.],\n",
              "       [216.],\n",
              "       [217.],\n",
              "       [218.],\n",
              "       [219.],\n",
              "       [220.],\n",
              "       [221.],\n",
              "       [222.],\n",
              "       [223.],\n",
              "       [224.],\n",
              "       [225.],\n",
              "       [226.],\n",
              "       [227.],\n",
              "       [228.],\n",
              "       [229.],\n",
              "       [230.],\n",
              "       [231.],\n",
              "       [232.],\n",
              "       [233.],\n",
              "       [234.],\n",
              "       [235.],\n",
              "       [236.],\n",
              "       [237.],\n",
              "       [238.],\n",
              "       [239.],\n",
              "       [240.],\n",
              "       [241.],\n",
              "       [242.],\n",
              "       [243.],\n",
              "       [244.],\n",
              "       [245.],\n",
              "       [246.],\n",
              "       [247.],\n",
              "       [248.],\n",
              "       [249.],\n",
              "       [250.]])"
            ]
          },
          "metadata": {},
          "execution_count": 16
        }
      ]
    },
    {
      "cell_type": "code",
      "source": [
        "y = dataset.iloc[:, -1].values"
      ],
      "metadata": {
        "id": "xBlkRf9ZIy8g"
      },
      "execution_count": 18,
      "outputs": []
    },
    {
      "cell_type": "code",
      "source": [
        "y"
      ],
      "metadata": {
        "colab": {
          "base_uri": "https://localhost:8080/"
        },
        "id": "niMWnUlQI7en",
        "outputId": "f357c480-65a9-427a-80e0-75f57cfb4c1a"
      },
      "execution_count": 19,
      "outputs": [
        {
          "output_type": "execute_result",
          "data": {
            "text/plain": [
              "array([163.059998, 164.699997, 164.389999, 168.470001, 164.490005,\n",
              "       163.360001, 158.820007, 161.479996, 160.199997, 158.929993,\n",
              "       151.449997, 150.899994, 157.050003, 158.610001, 160.509995,\n",
              "       163.509995, 165.509995, 167.990005, 171.059998, 173.880005,\n",
              "       172.169998, 176.690002, 178.550003, 177.839996, 174.029999,\n",
              "       174.570007, 177.5     , 172.360001, 171.160004, 171.779999,\n",
              "       168.710007, 168.020004, 167.389999, 170.619995, 163.919998,\n",
              "       165.020004, 168.759995, 168.910004, 166.460007, 161.119995,\n",
              "       162.25    , 155.910004, 159.25    , 161.839996, 156.710007,\n",
              "       158.149994, 159.669998, 163.850006, 156.009995, 154.929993,\n",
              "       155.520004, 153.5     , 142.770004, 144.589996, 145.550003,\n",
              "       148.860001, 146.850006, 139.880005, 139.089996, 137.789993,\n",
              "       140.809998, 138.429993, 137.389999, 145.389999, 149.070007,\n",
              "       149.899994, 147.830002, 146.899994, 147.029999, 144.350006,\n",
              "       148.580002, 147.080002, 140.279999, 132.869995, 133.130005,\n",
              "       134.289993, 132.080002, 130.070007, 133.419998, 134.789993,\n",
              "       136.820007, 139.899994, 142.699997, 142.130005, 137.460007,\n",
              "       137.25    , 136.039993, 137.770004, 141.350006, 143.289993,\n",
              "       145.259995, 145.669998, 145.759995, 142.990005, 144.080002,\n",
              "       149.779999, 150.740005, 147.919998, 151.119995, 154.5     ,\n",
              "       155.389999, 154.009995, 152.259995, 152.580002, 156.979996,\n",
              "       161.240005, 161.009995, 160.100006, 160.839996, 166.009995,\n",
              "       163.210007, 166.369995, 164.020004, 167.679993, 170.059998,\n",
              "       169.820007, 171.520004, 172.779999, 172.770004, 173.75    ,\n",
              "       173.029999, 169.690002, 167.080002, 167.320007, 168.779999,\n",
              "       170.570007, 161.149994, 162.130005, 160.309998, 156.639999,\n",
              "       159.75    , 156.470001, 154.820007, 154.639999, 155.470001,\n",
              "       159.589996, 159.899994, 154.789993, 154.649994, 151.210007,\n",
              "       149.309998, 153.399994, 157.339996, 152.380005, 151.190002,\n",
              "       149.660004, 152.740005, 147.639999, 146.100006, 141.279999,\n",
              "       138.210007, 145.029999, 144.070007, 145.809998, 142.539993,\n",
              "       140.419998, 139.899994, 139.130005, 134.990005, 144.309998,\n",
              "       141.070007, 145.490005, 141.690002, 143.020004, 142.869995,\n",
              "       147.190002, 150.089996, 150.960007, 148.070007, 148.199997,\n",
              "       153.160004, 155.080002, 148.949997, 142.059998, 142.089996,\n",
              "       137.110001, 140.410004, 138.5     , 141.240005, 145.820007,\n",
              "       148.970001, 152.220001, 149.130005, 146.429993, 152.309998,\n",
              "       150.160004, 148.130005, 149.449997, 148.309998, 145.139999,\n",
              "       144.289993, 141.399994, 148.210007, 145.960007, 147.770004,\n",
              "       147.070007, 142.190002, 142.360001, 142.339996, 142.699997,\n",
              "       149.5     , 145.350006, 141.110001, 136.690002, 135.110001,\n",
              "       131.389999, 132.979996, 134.350006, 130.919998, 131.380005,\n",
              "       129.669998, 127.989998, 128.410004, 130.279999, 126.889999,\n",
              "       127.129997, 126.010002, 130.470001, 130.259995, 131.25    ,\n",
              "       133.880005, 132.029999, 134.830002, 136.820007, 134.080002,\n",
              "       135.279999, 138.119995, 140.309998, 140.889999, 143.169998,\n",
              "       143.160004, 144.960007, 142.699997, 143.970001, 148.899994,\n",
              "       148.029999, 152.570007, 150.639999, 153.880005, 153.779999,\n",
              "       149.460007, 150.949997, 152.119995, 153.110001, 153.509995,\n",
              "       152.350006, 150.199997, 148.869995, 150.089996, 147.110001])"
            ]
          },
          "metadata": {},
          "execution_count": 19
        }
      ]
    },
    {
      "cell_type": "code",
      "source": [
        "from sklearn.model_selection import train_test_split\n",
        "x_train, x_test, y_train, y_test = train_test_split(x, y, test_size = 0.2, random_state = 0)"
      ],
      "metadata": {
        "id": "Q31QagXeI-sH"
      },
      "execution_count": 20,
      "outputs": []
    },
    {
      "cell_type": "code",
      "source": [
        "from sklearn.linear_model import LinearRegression\n",
        "regressor = LinearRegression()\n",
        "regressor.fit(x_train, y_train)\n",
        "     "
      ],
      "metadata": {
        "colab": {
          "base_uri": "https://localhost:8080/"
        },
        "id": "aQedr7iBJArv",
        "outputId": "67ac2e9a-fa95-4d6c-e09a-a744e91f406c"
      },
      "execution_count": 21,
      "outputs": [
        {
          "output_type": "execute_result",
          "data": {
            "text/plain": [
              "LinearRegression()"
            ]
          },
          "metadata": {},
          "execution_count": 21
        }
      ]
    },
    {
      "cell_type": "code",
      "source": [
        "y_pred = regressor.predict(x_test)\n",
        "     "
      ],
      "metadata": {
        "id": "0afy66R_JEKQ"
      },
      "execution_count": 23,
      "outputs": []
    },
    {
      "cell_type": "code",
      "source": [
        "plt.scatter(x_test, y_test, color = 'black')\n",
        "plt.scatter(x_train, y_train, color = 'pink')\n",
        "plt.plot(x_test, y_pred, color = 'red')\n",
        "plt.xlabel('Volume')\n",
        "plt.ylabel('Profit')\n",
        "plt.show()"
      ],
      "metadata": {
        "colab": {
          "base_uri": "https://localhost:8080/",
          "height": 279
        },
        "id": "uFFkdgImJHxv",
        "outputId": "2f37b9e3-a18e-43bf-a669-53b95649c811"
      },
      "execution_count": 22,
      "outputs": [
        {
          "output_type": "display_data",
          "data": {
            "text/plain": [
              "<Figure size 432x288 with 1 Axes>"
            ],
            "image/png": "[encoded data removed]"
          },
          "metadata": {
            "needs_background": "light"
          }
        }
      ]
    },
    {
      "cell_type": "code",
      "source": [],
      "metadata": {
        "id": "hWweKTqEJMiP"
      },
      "execution_count": null,
      "outputs": []
    }
  ]
}